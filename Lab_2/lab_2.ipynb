{
 "cells": [
  {
   "cell_type": "markdown",
   "id": "f95ebece",
   "metadata": {},
   "source": [
    "# Lab 2\n",
    "Prepared:\n",
    " - **Szymon Budziak**\n",
    " - **Krzysztof Gwiazda**"
   ]
  },
  {
   "cell_type": "code",
   "execution_count": 1,
   "id": "1277850e",
   "metadata": {},
   "outputs": [],
   "source": [
    "from PIL import Image\n",
    "import numpy as np\n",
    "import os"
   ]
  },
  {
   "cell_type": "markdown",
   "id": "bd25b833",
   "metadata": {},
   "source": [
    "# Data preprocessing"
   ]
  },
  {
   "cell_type": "markdown",
   "id": "0db9017c",
   "metadata": {},
   "source": [
    "### 1. Choose images from Plantdoc set"
   ]
  },
  {
   "cell_type": "markdown",
   "id": "7b3ea85d",
   "metadata": {},
   "source": [
    "We have selected 3 tomato diseases:\n",
    "- Tomato leaf bacterial spot\n",
    "- Tomato leaf late blight\n",
    "- Tomato leaf mosaic virus"
   ]
  },
  {
   "cell_type": "markdown",
   "id": "851a19ac",
   "metadata": {},
   "source": [
    "### 2. Load images"
   ]
  },
  {
   "cell_type": "code",
   "execution_count": 2,
   "id": "b5b6c775",
   "metadata": {},
   "outputs": [],
   "source": [
    "full_path = f\"{os.path.abspath('')}/Data\""
   ]
  },
  {
   "cell_type": "code",
   "execution_count": 3,
   "id": "699d412e",
   "metadata": {},
   "outputs": [],
   "source": [
    "files = [f\"{full_path}/{filename}\" for filename in os.listdir(full_path)]"
   ]
  },
  {
   "cell_type": "code",
   "execution_count": 4,
   "id": "d951104a",
   "metadata": {},
   "outputs": [],
   "source": [
    "images = [np.array(Image.open(file)) for file in files]"
   ]
  },
  {
   "cell_type": "markdown",
   "id": "734abdb3",
   "metadata": {},
   "source": [
    "### 3. Scale images to 224x224x3 resolution"
   ]
  },
  {
   "cell_type": "code",
   "execution_count": 5,
   "id": "96a35182",
   "metadata": {},
   "outputs": [
    {
     "data": {
      "text/plain": [
       "(224, 224, 3)"
      ]
     },
     "execution_count": 5,
     "metadata": {},
     "output_type": "execute_result"
    }
   ],
   "source": [
    "new_size = (224, 224, 3)\n",
    "scaled_images = [np.resize(img, new_size) for img in images]\n",
    "scaled_images[0].shape"
   ]
  },
  {
   "cell_type": "markdown",
   "id": "fdac9eeb",
   "metadata": {},
   "source": [
    "### 4. Convert images to greyscale"
   ]
  },
  {
   "cell_type": "code",
   "execution_count": 6,
   "id": "d0f44410",
   "metadata": {},
   "outputs": [
    {
     "data": {
      "text/plain": [
       "(224, 224)"
      ]
     },
     "execution_count": 6,
     "metadata": {},
     "output_type": "execute_result"
    }
   ],
   "source": [
    "greyscale_images = [np.array(Image.fromarray(img).convert('L')) for img in scaled_images]\n",
    "greyscale_images[0].shape"
   ]
  },
  {
   "cell_type": "markdown",
   "id": "8e506eff",
   "metadata": {},
   "source": [
    "### 5. Convert images to 1D vector"
   ]
  },
  {
   "cell_type": "code",
   "execution_count": 7,
   "id": "68715382",
   "metadata": {},
   "outputs": [
    {
     "data": {
      "text/plain": [
       "(50176,)"
      ]
     },
     "execution_count": 7,
     "metadata": {},
     "output_type": "execute_result"
    }
   ],
   "source": [
    "vector_images = [img.ravel() for img in greyscale_images]\n",
    "vector_images[0].shape"
   ]
  },
  {
   "cell_type": "markdown",
   "id": "299c8f09",
   "metadata": {},
   "source": [
    "### 6. Standardize images"
   ]
  },
  {
   "cell_type": "code",
   "execution_count": 8,
   "id": "373b0f40",
   "metadata": {},
   "outputs": [],
   "source": [
    "images_means = np.mean(vector_images, axis=1)\n",
    "eps = 1e-6\n",
    "images_stds = np.std(vector_images, axis=1) + eps"
   ]
  },
  {
   "cell_type": "code",
   "execution_count": 9,
   "id": "4c5abb88",
   "metadata": {},
   "outputs": [
    {
     "data": {
      "text/plain": [
       "(246, 50176)"
      ]
     },
     "execution_count": 9,
     "metadata": {},
     "output_type": "execute_result"
    }
   ],
   "source": [
    "standardized_images = (vector_images - images_means[:, np.newaxis]) / images_stds[:, np.newaxis]\n",
    "standardized_images.shape"
   ]
  },
  {
   "cell_type": "markdown",
   "id": "8ebb1921",
   "metadata": {},
   "source": [
    "# Principal component analysis (PCA)"
   ]
  },
  {
   "cell_type": "code",
   "execution_count": 10,
   "id": "4114a5f5",
   "metadata": {},
   "outputs": [],
   "source": [
    "from sklearn.decomposition import PCA"
   ]
  },
  {
   "cell_type": "markdown",
   "id": "bd148c6f",
   "metadata": {},
   "source": [
    "### 1. Perform PCA"
   ]
  },
  {
   "cell_type": "code",
   "execution_count": 11,
   "id": "68dadca2",
   "metadata": {},
   "outputs": [],
   "source": [
    "pca = PCA(n_components=100)"
   ]
  },
  {
   "cell_type": "code",
   "execution_count": 12,
   "id": "0ab5569d",
   "metadata": {},
   "outputs": [],
   "source": [
    "principal_components = pca.fit_transform(standardized_images)"
   ]
  },
  {
   "cell_type": "markdown",
   "id": "66450a08",
   "metadata": {},
   "source": [
    "### 2. Covariance matrices before PCA and after"
   ]
  },
  {
   "cell_type": "code",
   "execution_count": 13,
   "id": "50d97ee6",
   "metadata": {},
   "outputs": [
    {
     "data": {
      "text/plain": [
       "array([[ 1.70050506,  1.5276308 ,  1.53990535, ..., -0.11947015,\n",
       "        -0.11195367, -0.11376048],\n",
       "       [ 1.5276308 ,  1.5225897 ,  1.53477837, ..., -0.11420287,\n",
       "        -0.10913924, -0.09934333],\n",
       "       [ 1.53990535,  1.53477837,  1.56861223, ..., -0.1154405 ,\n",
       "        -0.10863492, -0.09916062],\n",
       "       ...,\n",
       "       [-0.11947015, -0.11420287, -0.1154405 , ...,  0.88611718,\n",
       "         0.83736034,  0.79388687],\n",
       "       [-0.11195367, -0.10913924, -0.10863492, ...,  0.83736034,\n",
       "         0.8536261 ,  0.83401672],\n",
       "       [-0.11376048, -0.09934333, -0.09916062, ...,  0.79388687,\n",
       "         0.83401672,  0.88339504]])"
      ]
     },
     "execution_count": 13,
     "metadata": {},
     "output_type": "execute_result"
    }
   ],
   "source": [
    "smaller_standardized_images = standardized_images[:, :25000]\n",
    "# standardized_images has to many columns to perform np.cov so we are selecting first 25000\n",
    "cov_matrix_before = np.cov(smaller_standardized_images.T)\n",
    "cov_matrix_before"
   ]
  },
  {
   "cell_type": "code",
   "execution_count": 14,
   "id": "e4f64cb7",
   "metadata": {},
   "outputs": [
    {
     "data": {
      "text/plain": [
       "array([[ 1.70549119e+03,  7.56275461e-14, -2.94902507e-14, ...,\n",
       "        -1.12548906e-14,  5.29021979e-14, -1.28949568e-14],\n",
       "       [ 7.56275461e-14,  9.52836875e+02,  8.35785593e-14, ...,\n",
       "         5.17246236e-16, -2.76012217e-14,  1.62285435e-14],\n",
       "       [-2.94902507e-14,  8.35785593e-14,  8.67192477e+02, ...,\n",
       "        -9.28482399e-15,  3.03288720e-14,  1.24875050e-14],\n",
       "       ...,\n",
       "       [-1.12548906e-14,  5.17246236e-16, -9.28482399e-15, ...,\n",
       "         1.79007608e+02, -6.01877749e-14,  4.01201227e-14],\n",
       "       [ 5.29021979e-14, -2.76012217e-14,  3.03288720e-14, ...,\n",
       "        -6.01877749e-14,  1.78728133e+02, -3.66525517e-14],\n",
       "       [-1.28949568e-14,  1.62285435e-14,  1.24875050e-14, ...,\n",
       "         4.01201227e-14, -3.66525517e-14,  1.76962689e+02]])"
      ]
     },
     "execution_count": 14,
     "metadata": {},
     "output_type": "execute_result"
    }
   ],
   "source": [
    "cov_matrix_after = np.cov(principal_components.T)\n",
    "cov_matrix_after"
   ]
  },
  {
   "cell_type": "markdown",
   "id": "20905455",
   "metadata": {},
   "source": [
    "### 3. Average photo we subtracted from the others to standardize images"
   ]
  },
  {
   "cell_type": "code",
   "execution_count": 15,
   "id": "81c32acb",
   "metadata": {
    "scrolled": false
   },
   "outputs": [
    {
     "data": {
      "text/plain": [
       "array([143.73686623, 100.88711735, 142.92717634, 137.9725566 ,\n",
       "       124.55873326, 196.72498804, 179.32876276,   1.        ,\n",
       "       121.92647879, 139.331533  , 156.22317443, 142.81841916,\n",
       "        71.96231266, 140.65676818, 132.4771604 ,  82.09239477,\n",
       "       103.0683793 ,  64.0811942 , 133.69062899,  94.84237484,\n",
       "       122.33514031, 103.76909279, 127.70340402, 178.57680963,\n",
       "        71.84131856,  92.04041773,  52.873864  , 160.12818878,\n",
       "       114.38492506, 117.52104592, 119.55773677, 124.59492586,\n",
       "       113.96406649, 163.40601084, 133.78912229, 129.44915896,\n",
       "       103.05727838, 139.34444754, 110.00986527, 126.25099649,\n",
       "       135.20208865,  85.03862404,  59.75556043, 100.04542012,\n",
       "       108.11073023, 120.58641582, 114.49621333, 245.85564812,\n",
       "       124.29721381,  70.06234056, 104.41639429,  74.44993622,\n",
       "       116.01379145, 125.86029177,  88.69260204,  90.68753986,\n",
       "        71.63849251,   9.23604911, 196.81780134, 168.16196987,\n",
       "        65.7797154 , 115.87637516, 112.91422194,  99.44539222,\n",
       "       111.92924904, 100.70236767,  82.94449538, 116.14114318,\n",
       "       116.32328205, 143.90776467,  97.96695631, 118.18207908,\n",
       "       126.50793208, 124.81722337, 108.78294404, 130.60461177,\n",
       "       141.49683115, 139.36888154, 115.99119101,  81.33597736,\n",
       "       129.13827328, 128.6467036 ,  82.34580277, 162.04292889,\n",
       "       127.81224091, 199.95906409,  90.16372369, 147.51586416,\n",
       "        99.92319037, 124.23584981,  88.7011918 ,  92.2156808 ,\n",
       "       147.38325096, 114.82770647, 153.97500797, 100.19618941,\n",
       "        93.18835698, 180.67083865, 121.02728396, 143.73431521,\n",
       "       136.11499522, 122.70515784, 165.47179927, 201.14686304,\n",
       "        86.205397  , 124.88404815, 172.45418128, 149.67097816,\n",
       "        59.28075175, 143.34576291,  86.53760762, 103.8948302 ,\n",
       "        57.32027264, 129.12689334,  91.17165577,  82.26082191,\n",
       "        99.01472816, 163.40601084, 166.6189214 , 132.248864  ,\n",
       "       128.16553731, 127.02955596, 144.78029337, 132.63197545,\n",
       "       122.22710061, 202.07473693, 111.71946747, 145.92530293,\n",
       "       144.00249123, 103.85074538, 112.32834423,  82.12838807,\n",
       "        67.13743622, 112.64586655,  91.44923868, 131.97074298,\n",
       "       190.67303093, 108.84333147, 137.17293128, 168.82521524,\n",
       "       115.03027344, 136.77943638, 136.02158402, 120.54049745,\n",
       "       151.90445631,  81.41113281,   3.46613919, 118.08685427,\n",
       "        94.11302216,  96.63940928, 183.46665737, 239.97454959,\n",
       "       104.39496971,  71.15762516, 106.66874601, 155.97050383,\n",
       "       107.31700415, 131.00366709,  92.91450096,  80.70430086,\n",
       "       111.97580517,  95.38243383,  38.28443878, 123.58691406,\n",
       "       112.77903779, 245.86949936, 139.5462771 , 102.14405293,\n",
       "       138.20545679, 108.54998406, 195.69750478,  72.05905214,\n",
       "       123.36706792,  86.99567522, 122.66318559, 127.88590163,\n",
       "       197.137217  ,  76.96564094,  60.82790577, 201.35704321,\n",
       "       127.14367427, 105.34133849, 128.29298868, 123.23118622,\n",
       "        77.83290816, 224.81540976, 167.59400909, 126.40116789,\n",
       "       228.30660077, 133.13163664,  86.84787548,  88.64871652,\n",
       "       103.49669165, 114.08743224,  81.71896923, 146.01937181,\n",
       "       100.17898996, 115.56331712, 143.66464047, 100.4117905 ,\n",
       "       116.54033801,  96.24573501,  55.85592714, 176.32894212,\n",
       "       146.22223772, 116.00629783, 147.95922353, 133.61340083,\n",
       "        74.06604751, 131.85321668, 101.65033084,  75.58486129,\n",
       "       166.7705676 , 138.77889828,  40.96035953, 122.09729751,\n",
       "       175.71177455, 116.56373565,  93.9817044 , 101.63456633,\n",
       "       110.91834742, 137.08589764,  79.27555006, 144.55544483,\n",
       "        70.81818001, 134.0986926 , 115.66061464,  90.41416215,\n",
       "       114.47393176,  90.34042172,  85.39943399, 141.8504265 ,\n",
       "       140.71847098, 162.71972656,  83.19094786, 104.7002551 ,\n",
       "       147.32188696, 157.00394611, 111.78940131,  55.22329401,\n",
       "       117.33370536, 148.88265306, 129.8888911 , 117.99111129,\n",
       "       161.76189812,  67.9104552 ])"
      ]
     },
     "execution_count": 15,
     "metadata": {},
     "output_type": "execute_result"
    }
   ],
   "source": [
    "images_means"
   ]
  },
  {
   "cell_type": "markdown",
   "id": "43f543e0",
   "metadata": {},
   "source": [
    "### 4. Present principal components and principal components sorted by related variance"
   ]
  },
  {
   "cell_type": "code",
   "execution_count": 16,
   "id": "a7b870e2",
   "metadata": {},
   "outputs": [
    {
     "data": {
      "text/plain": [
       "array([[ -49.40379607,   -2.74471267,   40.51692202, ...,    3.06027408,\n",
       "          -4.14000749,   -1.18358582],\n",
       "       [ -19.63760145,  -73.95379214,  103.30365735, ...,  -16.37009592,\n",
       "           9.16246144,    6.13713109],\n",
       "       [  15.79195224, -109.4147882 ,  -91.50212034, ...,  -16.76083251,\n",
       "          15.27339443,   -1.83942511],\n",
       "       ...,\n",
       "       [   5.99434299,   15.00187103,   -7.23507106, ...,    6.27910768,\n",
       "           1.04098867,   15.43526335],\n",
       "       [ -47.61209574,   -1.87974794,    4.06067318, ...,   19.42030022,\n",
       "          24.78749014,  -15.43837299],\n",
       "       [ -25.57722314,    3.89662203,   -5.72739409, ...,   -3.94539509,\n",
       "           2.42766575,   14.99438599]])"
      ]
     },
     "execution_count": 16,
     "metadata": {},
     "output_type": "execute_result"
    }
   ],
   "source": [
    "principal_components"
   ]
  },
  {
   "cell_type": "code",
   "execution_count": 17,
   "id": "df92f116",
   "metadata": {},
   "outputs": [
    {
     "data": {
      "text/plain": [
       "array([[ -49.40379607,   -2.74471267,   40.51692202, ...,    3.06027408,\n",
       "          -4.14000749,   -1.18358582],\n",
       "       [ -19.63760145,  -73.95379214,  103.30365735, ...,  -16.37009592,\n",
       "           9.16246144,    6.13713109],\n",
       "       [  15.79195224, -109.4147882 ,  -91.50212034, ...,  -16.76083251,\n",
       "          15.27339443,   -1.83942511],\n",
       "       ...,\n",
       "       [   5.99434299,   15.00187103,   -7.23507106, ...,    6.27910768,\n",
       "           1.04098867,   15.43526335],\n",
       "       [ -47.61209574,   -1.87974794,    4.06067318, ...,   19.42030022,\n",
       "          24.78749014,  -15.43837299],\n",
       "       [ -25.57722314,    3.89662203,   -5.72739409, ...,   -3.94539509,\n",
       "           2.42766575,   14.99438599]])"
      ]
     },
     "execution_count": 17,
     "metadata": {},
     "output_type": "execute_result"
    }
   ],
   "source": [
    "explained_variances = pca.explained_variance_ratio_\n",
    "sorted_indices = np.argsort(explained_variances)[::-1]\n",
    "sorted_principal_components = principal_components[:, sorted_indices]\n",
    "sorted_principal_components"
   ]
  },
  {
   "cell_type": "markdown",
   "id": "0cfa1994",
   "metadata": {},
   "source": [
    "### 5. Reduce the dimensionality to the 3, 9 and 27 most important features, respectively"
   ]
  },
  {
   "cell_type": "code",
   "execution_count": null,
   "id": "6239bc43",
   "metadata": {},
   "outputs": [],
   "source": []
  },
  {
   "cell_type": "markdown",
   "id": "95ffb07e",
   "metadata": {},
   "source": [
    "### 6. Plot the explained variance"
   ]
  },
  {
   "cell_type": "code",
   "execution_count": 18,
   "id": "f29d5d24",
   "metadata": {},
   "outputs": [],
   "source": [
    "import matplotlib.pyplot as plt"
   ]
  },
  {
   "cell_type": "code",
   "execution_count": 26,
   "id": "8ba64b4d",
   "metadata": {},
   "outputs": [
    {
     "data": {
      "text/plain": [
       "Text(0.5, 1.0, 'Explained Variance ratio for each Principal Component')"
      ]
     },
     "execution_count": 26,
     "metadata": {},
     "output_type": "execute_result"
    },
    {
     "data": {
      "image/png": "[encoded data removed]",
      "text/plain": [
       "<Figure size 1000x700 with 1 Axes>"
      ]
     },
     "metadata": {},
     "output_type": "display_data"
    }
   ],
   "source": [
    "plt.figure(figsize=(10, 7))\n",
    "plt.plot(np.arange(1, len(explained_variances)+1), explained_variances, 'o-')\n",
    "plt.xlabel('Principal Component')\n",
    "plt.ylabel('Explained Variance Ratio')\n",
    "plt.title('Explained Variance ratio for each Principal Component')"
   ]
  },
  {
   "cell_type": "code",
   "execution_count": null,
   "id": "cd2b4add",
   "metadata": {},
   "outputs": [],
   "source": []
  }
 ],
 "metadata": {
  "kernelspec": {
   "display_name": "Python 3 (ipykernel)",
   "language": "python",
   "name": "python3"
  },
  "language_info": {
   "codemirror_mode": {
    "name": "ipython",
    "version": 3
   },
   "file_extension": ".py",
   "mimetype": "text/x-python",
   "name": "python",
   "nbconvert_exporter": "python",
   "pygments_lexer": "ipython3",
   "version": "3.10.10"
  }
 },
 "nbformat": 4,
 "nbformat_minor": 5
}
