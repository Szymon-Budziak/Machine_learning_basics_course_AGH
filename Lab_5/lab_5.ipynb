{
 "cells": [
  {
   "cell_type": "markdown",
   "id": "a812f182",
   "metadata": {},
   "source": [
    "# Lab 5\n",
    "Prepared:\n",
    " - **Szymon Budziak**\n",
    " - **Krzysztof Gwiazda**"
   ]
  },
  {
   "cell_type": "code",
   "execution_count": 1,
   "id": "d1eff1de",
   "metadata": {},
   "outputs": [],
   "source": [
    "import numpy as np\n",
    "\n",
    "from sklearn.feature_selection import VarianceThreshold, RFE, RFECV, SelectFromModel\n",
    "from sklearn.ensemble import RandomForestClassifier\n",
    "from sklearn.model_selection import cross_val_score\n",
    "from sklearn.linear_model import LogisticRegression\n",
    "\n",
    "import scipy"
   ]
  },
  {
   "cell_type": "markdown",
   "id": "160d0290",
   "metadata": {},
   "source": [
    "## 1. Load dataset"
   ]
  },
  {
   "cell_type": "code",
   "execution_count": 2,
   "id": "bed26888",
   "metadata": {},
   "outputs": [],
   "source": [
    "data = scipy.io.loadmat(\"leukemia.mat\")\n",
    "X = data['X']\n",
    "y = data['Y'].ravel()"
   ]
  },
  {
   "cell_type": "markdown",
   "id": "fa6aa9ba",
   "metadata": {},
   "source": [
    "## 2. Remove features characterized by low variance"
   ]
  },
  {
   "cell_type": "code",
   "execution_count": 3,
   "id": "9e3f1e64",
   "metadata": {},
   "outputs": [],
   "source": [
    "threshold = 0.1\n",
    "variance_filter = VarianceThreshold(threshold=threshold)\n",
    "X_filtered = variance_filter.fit_transform(X)"
   ]
  },
  {
   "cell_type": "code",
   "execution_count": 4,
   "id": "eaf40269",
   "metadata": {
    "scrolled": false
   },
   "outputs": [
    {
     "name": "stdout",
     "output_type": "stream",
     "text": [
      "Accuracy - Original: 0.9285714285714286\n",
      "Accuracy - Filtered: 0.9285714285714286\n"
     ]
    }
   ],
   "source": [
    "original_accuracy = np.mean(cross_val_score(LogisticRegression(), X, y, cv=5))\n",
    "filtered_accuracy = np.mean(cross_val_score(LogisticRegression(), X_filtered, y, cv=5))\n",
    "print(\"Accuracy - Original:\", original_accuracy)\n",
    "print(\"Accuracy - Filtered:\", filtered_accuracy)"
   ]
  },
  {
   "cell_type": "markdown",
   "id": "da0e48bd",
   "metadata": {},
   "source": [
    "## 3. Select the top 'm' features"
   ]
  },
  {
   "cell_type": "code",
   "execution_count": 5,
   "id": "f7148d16",
   "metadata": {
    "scrolled": false
   },
   "outputs": [],
   "source": [
    "m = X.shape[0]//4\n",
    "estimator = LogisticRegression()  \n",
    "rfe_selector = RFE(estimator, n_features_to_select=int(m))\n",
    "X_rfe = rfe_selector.fit_transform(X, y)"
   ]
  },
  {
   "cell_type": "markdown",
   "id": "6faae2f1",
   "metadata": {},
   "source": [
    "## 4. Examine the impact of accuracy and AUC metric on classification accuracy"
   ]
  },
  {
   "cell_type": "code",
   "execution_count": 6,
   "id": "0b8d6187",
   "metadata": {
    "scrolled": false
   },
   "outputs": [
    {
     "name": "stdout",
     "output_type": "stream",
     "text": [
      "ACCURACY:\n",
      "Logistic Regression: 1.0000\n",
      "Random Forest: 1.0000\n",
      "\n",
      "ROC_AUC:\n",
      "Logistic Regression: 1.0000\n",
      "Random Forest: 1.0000\n",
      "\n"
     ]
    }
   ],
   "source": [
    "scoring_metrics = ['accuracy', 'roc_auc']\n",
    "cv = 6\n",
    "scores = {}\n",
    "\n",
    "for metric in scoring_metrics:\n",
    "    logistic_reg = LogisticRegression()\n",
    "    random_forest = RandomForestClassifier()\n",
    "\n",
    "    logistic_scores = cross_val_score(logistic_reg, X_rfe, y, cv=cv, scoring=metric)\n",
    "    random_forest_scores = cross_val_score(random_forest, X_rfe, y, cv=cv, scoring=metric)\n",
    "\n",
    "    scores[metric] = {'Logistic Regression': np.mean(logistic_scores),\n",
    "                      'Random Forest': np.mean(random_forest_scores)}\n",
    "\n",
    "for metric, values in scores.items():\n",
    "    print(f\"{metric.upper()}:\")\n",
    "    for model, score in values.items():\n",
    "        print(f\"{model}: {score:.4f}\")\n",
    "    print()"
   ]
  },
  {
   "cell_type": "markdown",
   "id": "37c77e8b",
   "metadata": {},
   "source": [
    "## 5. Compare the effectiveness of the applied approach with built-in feature selection methods"
   ]
  },
  {
   "cell_type": "code",
   "execution_count": 7,
   "id": "75f4572a",
   "metadata": {},
   "outputs": [
    {
     "name": "stdout",
     "output_type": "stream",
     "text": [
      "Number of features selected using L1 regularization: 32\n",
      "Number of features selected using feature importances: 476\n"
     ]
    }
   ],
   "source": [
    "l1_logistic = SelectFromModel(LogisticRegression(penalty='l1', solver='liblinear'))\n",
    "l1_logistic.fit(X, y)\n",
    "X_l1_logistic = l1_logistic.transform(X)\n",
    "\n",
    "feature_importances_rf = SelectFromModel(RandomForestClassifier())\n",
    "feature_importances_rf.fit(X, y)\n",
    "X_rf = feature_importances_rf.transform(X)\n",
    "\n",
    "print(\"Number of features selected using L1 regularization:\", X_l1_logistic.shape[1])\n",
    "print(\"Number of features selected using feature importances:\", X_rf.shape[1])"
   ]
  }
 ],
 "metadata": {
  "kernelspec": {
   "display_name": "Python 3 (ipykernel)",
   "language": "python",
   "name": "python3"
  },
  "language_info": {
   "codemirror_mode": {
    "name": "ipython",
    "version": 3
   },
   "file_extension": ".py",
   "mimetype": "text/x-python",
   "name": "python",
   "nbconvert_exporter": "python",
   "pygments_lexer": "ipython3",
   "version": "3.11.3"
  }
 },
 "nbformat": 4,
 "nbformat_minor": 5
}
